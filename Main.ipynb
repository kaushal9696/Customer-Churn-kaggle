{
 "cells": [
  {
   "cell_type": "code",
   "execution_count": 1,
   "id": "d93d4aeb",
   "metadata": {},
   "outputs": [],
   "source": [
    "import pandas as pd\n",
    "import numpy as np\n",
    "import matplotlib.pyplot as plt\n",
    "import sklearn\n",
    "from sklearn.preprocessing import OrdinalEncoder, MinMaxScaler\n",
    "from sklearn.model_selection import train_test_split\n",
    "from sklearn.metrics import classification_report, confusion_matrix, ConfusionMatrixDisplay\n",
    "from sklearn.linear_model import LogisticRegression\n",
    "from sklearn.ensemble import IsolationForest\n",
    "from imblearn.combine import SMOTETomek \n",
    "from imblearn.ensemble import RUSBoostClassifier, BalancedRandomForestClassifier, BalancedBaggingClassifier"
   ]
  },
  {
   "cell_type": "markdown",
   "id": "e5d90be2",
   "metadata": {},
   "source": [
    "##### Reading Training and Testing Dataset although we do not have labels on test so we will mainly focus on train.csv"
   ]
  },
  {
   "cell_type": "code",
   "execution_count": 2,
   "id": "b8169849",
   "metadata": {},
   "outputs": [],
   "source": [
    "train  = pd.read_csv(\"train.csv\")\n",
    "test = pd.read_csv(\"test.csv\")"
   ]
  },
  {
   "cell_type": "code",
   "execution_count": 3,
   "id": "3aaff814",
   "metadata": {},
   "outputs": [],
   "source": [
    "# train.head()"
   ]
  },
  {
   "cell_type": "markdown",
   "id": "1504d9c7",
   "metadata": {},
   "source": [
    "##### Check the details about each column"
   ]
  },
  {
   "cell_type": "code",
   "execution_count": 4,
   "id": "f1a1c69b",
   "metadata": {},
   "outputs": [],
   "source": [
    "# train.info()"
   ]
  },
  {
   "cell_type": "markdown",
   "id": "751b5e58",
   "metadata": {},
   "source": [
    "##### get the numeric columns to remove outliers by sklearn's Isolationforest"
   ]
  },
  {
   "cell_type": "code",
   "execution_count": 5,
   "id": "96f3dc06",
   "metadata": {},
   "outputs": [],
   "source": [
    "numCols = [i for i in train.columns if train[i].dtypes != \"object\"]\n",
    "\n",
    "x = IsolationForest()\n",
    "train[\"outlier\"] = x.fit_predict(train[numCols])\n",
    "train = train[train[\"outlier\"] == 1]\n",
    "train = train.drop(\"outlier\", axis = 1)"
   ]
  },
  {
   "cell_type": "markdown",
   "id": "3c3f3ec5",
   "metadata": {},
   "source": [
    "##### Plot the Imbalance"
   ]
  },
  {
   "cell_type": "code",
   "execution_count": 6,
   "id": "ee9dccbf",
   "metadata": {},
   "outputs": [
    {
     "name": "stdout",
     "output_type": "stream",
     "text": [
      "Total Number of Customer Exited 493\n",
      "Total Number of Customer Stayed 3409\n"
     ]
    },
    {
     "data": {
      "image/png": "[encoded data removed]",
      "text/plain": [
       "<Figure size 432x288 with 1 Axes>"
      ]
     },
     "metadata": {},
     "output_type": "display_data"
    }
   ],
   "source": [
    "# First Lets Convert the churn column to numeric\n",
    "\n",
    "train.churn = train.churn.apply(lambda x:0 if x == \"no\" else 1)\n",
    "\n",
    "print(\"Total Number of Customer Exited\", len(train[train.churn == 1]))\n",
    "print(\"Total Number of Customer Stayed\", len(train[train.churn == 0]))\n",
    "\n",
    "labels = \"Customer Stayed\", \"Customer Leaved\"\n",
    "sizes = [len(train[train.churn == 0]), len(train[train.churn == 1])]\n",
    "explode = (0, 0.1) \n",
    "\n",
    "fig1, ax1 = plt.subplots()\n",
    "\n",
    "ax1.pie(sizes, explode=explode, labels=labels, autopct='%1.1f%%',\n",
    "        shadow=True, startangle=90)\n",
    "ax1.axis('equal')\n",
    "\n",
    "plt.show()"
   ]
  },
  {
   "cell_type": "markdown",
   "id": "c0505d25",
   "metadata": {},
   "source": [
    "##### get the categorical columns to convert it to numeric"
   ]
  },
  {
   "cell_type": "code",
   "execution_count": 7,
   "id": "eace15b8",
   "metadata": {},
   "outputs": [
    {
     "name": "stdout",
     "output_type": "stream",
     "text": [
      "Column Name --> state\n",
      "Total Unique Values in this column --> 51\n",
      "Unique Variable Name --> ['OH' 'NJ' 'OK' 'MO' 'LA' 'IN' 'RI' 'IA' 'MT' 'VA' 'TX' 'FL' 'SC' 'WY'\n",
      " 'HI' 'NH' 'AZ' 'MA' 'AK' 'GA' 'AR' 'ID' 'WI' 'OR' 'MI' 'DE' 'UT' 'CO'\n",
      " 'CA' 'SD' 'NC' 'WA' 'MN' 'NM' 'NV' 'DC' 'MD' 'WV' 'VT' 'KY' 'ME' 'MS'\n",
      " 'AL' 'NE' 'NY' 'TN' 'IL' 'KS' 'PA' 'ND' 'CT']\n",
      "---------------------------------------------------------------------------\n",
      "Column Name --> area_code\n",
      "Total Unique Values in this column --> 3\n",
      "Unique Variable Name --> ['area_code_415' 'area_code_408' 'area_code_510']\n",
      "---------------------------------------------------------------------------\n",
      "Column Name --> international_plan\n",
      "Total Unique Values in this column --> 2\n",
      "Unique Variable Name --> ['no' 'yes']\n",
      "---------------------------------------------------------------------------\n",
      "Column Name --> voice_mail_plan\n",
      "Total Unique Values in this column --> 2\n",
      "Unique Variable Name --> ['yes' 'no']\n",
      "---------------------------------------------------------------------------\n"
     ]
    }
   ],
   "source": [
    "## Lets Find out the column which are not numeric and we need to convert that to numeric\n",
    "categoricalColumns = []\n",
    "for col in train.columns:\n",
    "    if train[col].dtypes == \"object\":\n",
    "        print(\"Column Name -->\", col)\n",
    "        print(\"Total Unique Values in this column -->\", len(train[col].unique()))\n",
    "        print(\"Unique Variable Name -->\", train[col].unique())\n",
    "        print(\"-\" * 75)\n",
    "        categoricalColumns.append(col)"
   ]
  },
  {
   "cell_type": "markdown",
   "id": "f89df4f0",
   "metadata": {},
   "source": [
    "##### We are using ordinal encoding"
   ]
  },
  {
   "cell_type": "code",
   "execution_count": 8,
   "id": "6ab71786",
   "metadata": {},
   "outputs": [],
   "source": [
    "encoder = OrdinalEncoder()\n",
    "train[categoricalColumns] = encoder.fit_transform(train[categoricalColumns])\n",
    "test[categoricalColumns] = encoder.transform(test[categoricalColumns])"
   ]
  },
  {
   "cell_type": "code",
   "execution_count": 9,
   "id": "73bddd8e",
   "metadata": {},
   "outputs": [
    {
     "data": {
      "text/html": [
       "<div>\n",
       "<style scoped>\n",
       "    .dataframe tbody tr th:only-of-type {\n",
       "        vertical-align: middle;\n",
       "    }\n",
       "\n",
       "    .dataframe tbody tr th {\n",
       "        vertical-align: top;\n",
       "    }\n",
       "\n",
       "    .dataframe thead th {\n",
       "        text-align: right;\n",
       "    }\n",
       "</style>\n",
       "<table border=\"1\" class=\"dataframe\">\n",
       "  <thead>\n",
       "    <tr style=\"text-align: right;\">\n",
       "      <th></th>\n",
       "      <th>state</th>\n",
       "      <th>account_length</th>\n",
       "      <th>area_code</th>\n",
       "      <th>international_plan</th>\n",
       "      <th>voice_mail_plan</th>\n",
       "      <th>number_vmail_messages</th>\n",
       "      <th>total_day_minutes</th>\n",
       "      <th>total_day_calls</th>\n",
       "      <th>total_day_charge</th>\n",
       "      <th>total_eve_minutes</th>\n",
       "      <th>total_eve_calls</th>\n",
       "      <th>total_eve_charge</th>\n",
       "      <th>total_night_minutes</th>\n",
       "      <th>total_night_calls</th>\n",
       "      <th>total_night_charge</th>\n",
       "      <th>total_intl_minutes</th>\n",
       "      <th>total_intl_calls</th>\n",
       "      <th>total_intl_charge</th>\n",
       "      <th>number_customer_service_calls</th>\n",
       "      <th>churn</th>\n",
       "    </tr>\n",
       "  </thead>\n",
       "  <tbody>\n",
       "    <tr>\n",
       "      <th>0</th>\n",
       "      <td>35.0</td>\n",
       "      <td>107</td>\n",
       "      <td>1.0</td>\n",
       "      <td>0.0</td>\n",
       "      <td>1.0</td>\n",
       "      <td>26</td>\n",
       "      <td>161.6</td>\n",
       "      <td>123</td>\n",
       "      <td>27.47</td>\n",
       "      <td>195.5</td>\n",
       "      <td>103</td>\n",
       "      <td>16.62</td>\n",
       "      <td>254.4</td>\n",
       "      <td>103</td>\n",
       "      <td>11.45</td>\n",
       "      <td>13.7</td>\n",
       "      <td>3</td>\n",
       "      <td>3.70</td>\n",
       "      <td>1</td>\n",
       "      <td>0</td>\n",
       "    </tr>\n",
       "    <tr>\n",
       "      <th>1</th>\n",
       "      <td>31.0</td>\n",
       "      <td>137</td>\n",
       "      <td>1.0</td>\n",
       "      <td>0.0</td>\n",
       "      <td>0.0</td>\n",
       "      <td>0</td>\n",
       "      <td>243.4</td>\n",
       "      <td>114</td>\n",
       "      <td>41.38</td>\n",
       "      <td>121.2</td>\n",
       "      <td>110</td>\n",
       "      <td>10.30</td>\n",
       "      <td>162.6</td>\n",
       "      <td>104</td>\n",
       "      <td>7.32</td>\n",
       "      <td>12.2</td>\n",
       "      <td>5</td>\n",
       "      <td>3.29</td>\n",
       "      <td>0</td>\n",
       "      <td>0</td>\n",
       "    </tr>\n",
       "    <tr>\n",
       "      <th>3</th>\n",
       "      <td>36.0</td>\n",
       "      <td>75</td>\n",
       "      <td>1.0</td>\n",
       "      <td>1.0</td>\n",
       "      <td>0.0</td>\n",
       "      <td>0</td>\n",
       "      <td>166.7</td>\n",
       "      <td>113</td>\n",
       "      <td>28.34</td>\n",
       "      <td>148.3</td>\n",
       "      <td>122</td>\n",
       "      <td>12.61</td>\n",
       "      <td>186.9</td>\n",
       "      <td>121</td>\n",
       "      <td>8.41</td>\n",
       "      <td>10.1</td>\n",
       "      <td>3</td>\n",
       "      <td>2.73</td>\n",
       "      <td>3</td>\n",
       "      <td>0</td>\n",
       "    </tr>\n",
       "    <tr>\n",
       "      <th>5</th>\n",
       "      <td>24.0</td>\n",
       "      <td>147</td>\n",
       "      <td>1.0</td>\n",
       "      <td>1.0</td>\n",
       "      <td>0.0</td>\n",
       "      <td>0</td>\n",
       "      <td>157.0</td>\n",
       "      <td>79</td>\n",
       "      <td>26.69</td>\n",
       "      <td>103.1</td>\n",
       "      <td>94</td>\n",
       "      <td>8.76</td>\n",
       "      <td>211.8</td>\n",
       "      <td>96</td>\n",
       "      <td>9.53</td>\n",
       "      <td>7.1</td>\n",
       "      <td>6</td>\n",
       "      <td>1.92</td>\n",
       "      <td>0</td>\n",
       "      <td>0</td>\n",
       "    </tr>\n",
       "    <tr>\n",
       "      <th>6</th>\n",
       "      <td>18.0</td>\n",
       "      <td>117</td>\n",
       "      <td>0.0</td>\n",
       "      <td>0.0</td>\n",
       "      <td>0.0</td>\n",
       "      <td>0</td>\n",
       "      <td>184.5</td>\n",
       "      <td>97</td>\n",
       "      <td>31.37</td>\n",
       "      <td>351.6</td>\n",
       "      <td>80</td>\n",
       "      <td>29.89</td>\n",
       "      <td>215.8</td>\n",
       "      <td>90</td>\n",
       "      <td>9.71</td>\n",
       "      <td>8.7</td>\n",
       "      <td>4</td>\n",
       "      <td>2.35</td>\n",
       "      <td>1</td>\n",
       "      <td>0</td>\n",
       "    </tr>\n",
       "  </tbody>\n",
       "</table>\n",
       "</div>"
      ],
      "text/plain": [
       "   state  account_length  area_code  international_plan  voice_mail_plan  \\\n",
       "0   35.0             107        1.0                 0.0              1.0   \n",
       "1   31.0             137        1.0                 0.0              0.0   \n",
       "3   36.0              75        1.0                 1.0              0.0   \n",
       "5   24.0             147        1.0                 1.0              0.0   \n",
       "6   18.0             117        0.0                 0.0              0.0   \n",
       "\n",
       "   number_vmail_messages  total_day_minutes  total_day_calls  \\\n",
       "0                     26              161.6              123   \n",
       "1                      0              243.4              114   \n",
       "3                      0              166.7              113   \n",
       "5                      0              157.0               79   \n",
       "6                      0              184.5               97   \n",
       "\n",
       "   total_day_charge  total_eve_minutes  total_eve_calls  total_eve_charge  \\\n",
       "0             27.47              195.5              103             16.62   \n",
       "1             41.38              121.2              110             10.30   \n",
       "3             28.34              148.3              122             12.61   \n",
       "5             26.69              103.1               94              8.76   \n",
       "6             31.37              351.6               80             29.89   \n",
       "\n",
       "   total_night_minutes  total_night_calls  total_night_charge  \\\n",
       "0                254.4                103               11.45   \n",
       "1                162.6                104                7.32   \n",
       "3                186.9                121                8.41   \n",
       "5                211.8                 96                9.53   \n",
       "6                215.8                 90                9.71   \n",
       "\n",
       "   total_intl_minutes  total_intl_calls  total_intl_charge  \\\n",
       "0                13.7                 3               3.70   \n",
       "1                12.2                 5               3.29   \n",
       "3                10.1                 3               2.73   \n",
       "5                 7.1                 6               1.92   \n",
       "6                 8.7                 4               2.35   \n",
       "\n",
       "   number_customer_service_calls  churn  \n",
       "0                              1      0  \n",
       "1                              0      0  \n",
       "3                              3      0  \n",
       "5                              0      0  \n",
       "6                              1      0  "
      ]
     },
     "execution_count": 9,
     "metadata": {},
     "output_type": "execute_result"
    }
   ],
   "source": [
    "train.head()"
   ]
  },
  {
   "cell_type": "markdown",
   "id": "78d20d88",
   "metadata": {},
   "source": [
    "##### scaling the data by MinMax Scaler"
   ]
  },
  {
   "cell_type": "code",
   "execution_count": 10,
   "id": "4a3d6aa4",
   "metadata": {},
   "outputs": [],
   "source": [
    "scaleColumns = []\n",
    "for col in train.columns:\n",
    "    if len(train[col].unique()) > 3:\n",
    "        scaleColumns.append(col)\n",
    "\n",
    "scaler = MinMaxScaler()\n",
    "train[scaleColumns] = scaler.fit_transform(train[scaleColumns])\n",
    "test[scaleColumns] = scaler.fit_transform(test[scaleColumns])"
   ]
  },
  {
   "cell_type": "code",
   "execution_count": 11,
   "id": "0c491beb",
   "metadata": {},
   "outputs": [
    {
     "data": {
      "text/html": [
       "<div>\n",
       "<style scoped>\n",
       "    .dataframe tbody tr th:only-of-type {\n",
       "        vertical-align: middle;\n",
       "    }\n",
       "\n",
       "    .dataframe tbody tr th {\n",
       "        vertical-align: top;\n",
       "    }\n",
       "\n",
       "    .dataframe thead th {\n",
       "        text-align: right;\n",
       "    }\n",
       "</style>\n",
       "<table border=\"1\" class=\"dataframe\">\n",
       "  <thead>\n",
       "    <tr style=\"text-align: right;\">\n",
       "      <th></th>\n",
       "      <th>state</th>\n",
       "      <th>account_length</th>\n",
       "      <th>area_code</th>\n",
       "      <th>international_plan</th>\n",
       "      <th>voice_mail_plan</th>\n",
       "      <th>number_vmail_messages</th>\n",
       "      <th>total_day_minutes</th>\n",
       "      <th>total_day_calls</th>\n",
       "      <th>total_day_charge</th>\n",
       "      <th>total_eve_minutes</th>\n",
       "      <th>total_eve_calls</th>\n",
       "      <th>total_eve_charge</th>\n",
       "      <th>total_night_minutes</th>\n",
       "      <th>total_night_calls</th>\n",
       "      <th>total_night_charge</th>\n",
       "      <th>total_intl_minutes</th>\n",
       "      <th>total_intl_calls</th>\n",
       "      <th>total_intl_charge</th>\n",
       "      <th>number_customer_service_calls</th>\n",
       "      <th>churn</th>\n",
       "    </tr>\n",
       "  </thead>\n",
       "  <tbody>\n",
       "    <tr>\n",
       "      <th>0</th>\n",
       "      <td>0.70</td>\n",
       "      <td>0.438017</td>\n",
       "      <td>1.0</td>\n",
       "      <td>0.0</td>\n",
       "      <td>1.0</td>\n",
       "      <td>0.52</td>\n",
       "      <td>0.467999</td>\n",
       "      <td>0.745455</td>\n",
       "      <td>0.467973</td>\n",
       "      <td>0.525964</td>\n",
       "      <td>0.579618</td>\n",
       "      <td>0.525902</td>\n",
       "      <td>0.621840</td>\n",
       "      <td>0.510949</td>\n",
       "      <td>0.622236</td>\n",
       "      <td>0.695431</td>\n",
       "      <td>0.166667</td>\n",
       "      <td>0.695489</td>\n",
       "      <td>0.125</td>\n",
       "      <td>0</td>\n",
       "    </tr>\n",
       "    <tr>\n",
       "      <th>1</th>\n",
       "      <td>0.62</td>\n",
       "      <td>0.561983</td>\n",
       "      <td>1.0</td>\n",
       "      <td>0.0</td>\n",
       "      <td>0.0</td>\n",
       "      <td>0.00</td>\n",
       "      <td>0.704894</td>\n",
       "      <td>0.690909</td>\n",
       "      <td>0.704940</td>\n",
       "      <td>0.300334</td>\n",
       "      <td>0.624204</td>\n",
       "      <td>0.300107</td>\n",
       "      <td>0.374933</td>\n",
       "      <td>0.518248</td>\n",
       "      <td>0.375374</td>\n",
       "      <td>0.619289</td>\n",
       "      <td>0.277778</td>\n",
       "      <td>0.618421</td>\n",
       "      <td>0.000</td>\n",
       "      <td>0</td>\n",
       "    </tr>\n",
       "    <tr>\n",
       "      <th>3</th>\n",
       "      <td>0.72</td>\n",
       "      <td>0.305785</td>\n",
       "      <td>1.0</td>\n",
       "      <td>1.0</td>\n",
       "      <td>0.0</td>\n",
       "      <td>0.00</td>\n",
       "      <td>0.482769</td>\n",
       "      <td>0.684848</td>\n",
       "      <td>0.482794</td>\n",
       "      <td>0.382630</td>\n",
       "      <td>0.700637</td>\n",
       "      <td>0.382637</td>\n",
       "      <td>0.440290</td>\n",
       "      <td>0.642336</td>\n",
       "      <td>0.440526</td>\n",
       "      <td>0.512690</td>\n",
       "      <td>0.166667</td>\n",
       "      <td>0.513158</td>\n",
       "      <td>0.375</td>\n",
       "      <td>0</td>\n",
       "    </tr>\n",
       "    <tr>\n",
       "      <th>5</th>\n",
       "      <td>0.48</td>\n",
       "      <td>0.603306</td>\n",
       "      <td>1.0</td>\n",
       "      <td>1.0</td>\n",
       "      <td>0.0</td>\n",
       "      <td>0.00</td>\n",
       "      <td>0.454677</td>\n",
       "      <td>0.478788</td>\n",
       "      <td>0.454685</td>\n",
       "      <td>0.245369</td>\n",
       "      <td>0.522293</td>\n",
       "      <td>0.245088</td>\n",
       "      <td>0.507262</td>\n",
       "      <td>0.459854</td>\n",
       "      <td>0.507472</td>\n",
       "      <td>0.360406</td>\n",
       "      <td>0.333333</td>\n",
       "      <td>0.360902</td>\n",
       "      <td>0.000</td>\n",
       "      <td>0</td>\n",
       "    </tr>\n",
       "    <tr>\n",
       "      <th>6</th>\n",
       "      <td>0.36</td>\n",
       "      <td>0.479339</td>\n",
       "      <td>0.0</td>\n",
       "      <td>0.0</td>\n",
       "      <td>0.0</td>\n",
       "      <td>0.00</td>\n",
       "      <td>0.534318</td>\n",
       "      <td>0.587879</td>\n",
       "      <td>0.534412</td>\n",
       "      <td>1.000000</td>\n",
       "      <td>0.433121</td>\n",
       "      <td>1.000000</td>\n",
       "      <td>0.518020</td>\n",
       "      <td>0.416058</td>\n",
       "      <td>0.518231</td>\n",
       "      <td>0.441624</td>\n",
       "      <td>0.222222</td>\n",
       "      <td>0.441729</td>\n",
       "      <td>0.125</td>\n",
       "      <td>0</td>\n",
       "    </tr>\n",
       "  </tbody>\n",
       "</table>\n",
       "</div>"
      ],
      "text/plain": [
       "   state  account_length  area_code  international_plan  voice_mail_plan  \\\n",
       "0   0.70        0.438017        1.0                 0.0              1.0   \n",
       "1   0.62        0.561983        1.0                 0.0              0.0   \n",
       "3   0.72        0.305785        1.0                 1.0              0.0   \n",
       "5   0.48        0.603306        1.0                 1.0              0.0   \n",
       "6   0.36        0.479339        0.0                 0.0              0.0   \n",
       "\n",
       "   number_vmail_messages  total_day_minutes  total_day_calls  \\\n",
       "0                   0.52           0.467999         0.745455   \n",
       "1                   0.00           0.704894         0.690909   \n",
       "3                   0.00           0.482769         0.684848   \n",
       "5                   0.00           0.454677         0.478788   \n",
       "6                   0.00           0.534318         0.587879   \n",
       "\n",
       "   total_day_charge  total_eve_minutes  total_eve_calls  total_eve_charge  \\\n",
       "0          0.467973           0.525964         0.579618          0.525902   \n",
       "1          0.704940           0.300334         0.624204          0.300107   \n",
       "3          0.482794           0.382630         0.700637          0.382637   \n",
       "5          0.454685           0.245369         0.522293          0.245088   \n",
       "6          0.534412           1.000000         0.433121          1.000000   \n",
       "\n",
       "   total_night_minutes  total_night_calls  total_night_charge  \\\n",
       "0             0.621840           0.510949            0.622236   \n",
       "1             0.374933           0.518248            0.375374   \n",
       "3             0.440290           0.642336            0.440526   \n",
       "5             0.507262           0.459854            0.507472   \n",
       "6             0.518020           0.416058            0.518231   \n",
       "\n",
       "   total_intl_minutes  total_intl_calls  total_intl_charge  \\\n",
       "0            0.695431          0.166667           0.695489   \n",
       "1            0.619289          0.277778           0.618421   \n",
       "3            0.512690          0.166667           0.513158   \n",
       "5            0.360406          0.333333           0.360902   \n",
       "6            0.441624          0.222222           0.441729   \n",
       "\n",
       "   number_customer_service_calls  churn  \n",
       "0                          0.125      0  \n",
       "1                          0.000      0  \n",
       "3                          0.375      0  \n",
       "5                          0.000      0  \n",
       "6                          0.125      0  "
      ]
     },
     "execution_count": 11,
     "metadata": {},
     "output_type": "execute_result"
    }
   ],
   "source": [
    "train.head()"
   ]
  },
  {
   "cell_type": "markdown",
   "id": "d0de3511",
   "metadata": {},
   "source": [
    "##### Split data into train and test dataset"
   ]
  },
  {
   "cell_type": "code",
   "execution_count": 12,
   "id": "944675aa",
   "metadata": {},
   "outputs": [],
   "source": [
    "X_train, X_test, y_train, y_test = train_test_split(train.drop(\"churn\", axis = 1),\n",
    "                                                   train.churn,\n",
    "                                                   stratify=train.churn,\n",
    "                                                   random_state=4,\n",
    "                                                   test_size=0.25)"
   ]
  },
  {
   "cell_type": "markdown",
   "id": "a97afb92",
   "metadata": {},
   "source": [
    "##### for oversampling we are using SMOTETomek by imblearn"
   ]
  },
  {
   "cell_type": "code",
   "execution_count": 13,
   "id": "e6a303a7",
   "metadata": {},
   "outputs": [],
   "source": [
    "smt = SMOTETomek(random_state=4)\n",
    "X_res, y_res = smt.fit_resample(X_train, y_train)"
   ]
  },
  {
   "cell_type": "markdown",
   "id": "c00b9e21",
   "metadata": {},
   "source": [
    "##### Model we are using here is RandomForest which is tweaked for handeling imbalanced data"
   ]
  },
  {
   "cell_type": "code",
   "execution_count": 14,
   "id": "5245ae49",
   "metadata": {},
   "outputs": [
    {
     "name": "stdout",
     "output_type": "stream",
     "text": [
      "              precision    recall  f1-score   support\n",
      "\n",
      "           0       0.97      0.97      0.97       853\n",
      "           1       0.81      0.78      0.80       123\n",
      "\n",
      "    accuracy                           0.95       976\n",
      "   macro avg       0.89      0.88      0.88       976\n",
      "weighted avg       0.95      0.95      0.95       976\n",
      "\n"
     ]
    },
    {
     "data": {
      "text/plain": [
       "<sklearn.metrics._plot.confusion_matrix.ConfusionMatrixDisplay at 0x21e148ab208>"
      ]
     },
     "execution_count": 14,
     "metadata": {},
     "output_type": "execute_result"
    },
    {
     "data": {
      "image/png": "[encoded data removed]",
      "text/plain": [
       "<Figure size 432x288 with 2 Axes>"
      ]
     },
     "metadata": {
      "needs_background": "light"
     },
     "output_type": "display_data"
    }
   ],
   "source": [
    "eec = BalancedRandomForestClassifier(random_state=42)\n",
    "eec.fit(X_res, y_res) \n",
    "\n",
    "y_pred = eec.predict(X_test)\n",
    "\n",
    "print(classification_report(y_test, y_pred))\n",
    "cf = confusion_matrix(y_test, y_pred)\n",
    "\n",
    "disp = ConfusionMatrixDisplay(cf)\n",
    "disp.plot()"
   ]
  },
  {
   "cell_type": "code",
   "execution_count": 15,
   "id": "fb502546",
   "metadata": {},
   "outputs": [],
   "source": [
    "# X = train.drop(\"churn\", axis = 1)\n",
    "# y = train.churn\n",
    "\n",
    "# smt = SMOTETomek()\n",
    "# X_res1, y_res1 = smt.fit_resample(X, y)\n",
    "\n",
    "# FinalModel = BalancedRandomForestClassifier()\n",
    "# FinalModel.fit(X_res1, y_res1) "
   ]
  },
  {
   "cell_type": "code",
   "execution_count": 16,
   "id": "5fec51c6",
   "metadata": {},
   "outputs": [],
   "source": [
    "# prediction = FinalModel.predict(test.drop(\"id\", axis = 1))\n",
    "\n",
    "# test1 = test.copy()\n",
    "\n",
    "# test1[\"churn\"] = prediction\n",
    "# test1[\"churn\"] = test1[\"churn\"].apply(lambda x: \"no\" if x == 0 else \"yes\")\n",
    "# test_submit = test1[[\"id\", \"churn\"]]\n",
    "\n",
    "# test_submit.to_csv(\"pred.csv\", index = False)"
   ]
  },
  {
   "cell_type": "markdown",
   "id": "f53ab7f7",
   "metadata": {},
   "source": [
    "### H2O AutoML"
   ]
  },
  {
   "cell_type": "code",
   "execution_count": 17,
   "id": "e1684fbd",
   "metadata": {},
   "outputs": [],
   "source": [
    "import h2o\n",
    "from h2o.automl import H2OAutoML"
   ]
  },
  {
   "cell_type": "markdown",
   "id": "2bbbf11e",
   "metadata": {},
   "source": [
    "##### Need to init h2o instance to use h2o library"
   ]
  },
  {
   "cell_type": "code",
   "execution_count": 18,
   "id": "052cb01a",
   "metadata": {},
   "outputs": [
    {
     "name": "stdout",
     "output_type": "stream",
     "text": [
      "Checking whether there is an H2O instance running at http://localhost:54321 ..... not found.\n",
      "Attempting to start a local H2O server...\n",
      "; Java HotSpot(TM) 64-Bit Server VM (build 25.311-b11, mixed mode)\n",
      "  Starting server from C:\\Users\\praja\\anaconda3\\envs\\kp0\\lib\\site-packages\\h2o\\backend\\bin\\h2o.jar\n",
      "  Ice root: C:\\Users\\praja\\AppData\\Local\\Temp\\tmpprzqy5jv\n",
      "  JVM stdout: C:\\Users\\praja\\AppData\\Local\\Temp\\tmpprzqy5jv\\h2o_praja_started_from_python.out\n",
      "  JVM stderr: C:\\Users\\praja\\AppData\\Local\\Temp\\tmpprzqy5jv\\h2o_praja_started_from_python.err\n",
      "  Server is running at http://127.0.0.1:54321\n",
      "Connecting to H2O server at http://127.0.0.1:54321 ... successful.\n"
     ]
    },
    {
     "data": {
      "text/html": [
       "<div style=\"overflow:auto\"><table style=\"width:50%\"><tr><td>H2O_cluster_uptime:</td>\n",
       "<td>01 secs</td></tr>\n",
       "<tr><td>H2O_cluster_timezone:</td>\n",
       "<td>America/New_York</td></tr>\n",
       "<tr><td>H2O_data_parsing_timezone:</td>\n",
       "<td>UTC</td></tr>\n",
       "<tr><td>H2O_cluster_version:</td>\n",
       "<td>3.34.0.3</td></tr>\n",
       "<tr><td>H2O_cluster_version_age:</td>\n",
       "<td>1 month and 14 days </td></tr>\n",
       "<tr><td>H2O_cluster_name:</td>\n",
       "<td>H2O_from_python_praja_e14ap3</td></tr>\n",
       "<tr><td>H2O_cluster_total_nodes:</td>\n",
       "<td>1</td></tr>\n",
       "<tr><td>H2O_cluster_free_memory:</td>\n",
       "<td>7.061 Gb</td></tr>\n",
       "<tr><td>H2O_cluster_total_cores:</td>\n",
       "<td>16</td></tr>\n",
       "<tr><td>H2O_cluster_allowed_cores:</td>\n",
       "<td>16</td></tr>\n",
       "<tr><td>H2O_cluster_status:</td>\n",
       "<td>locked, healthy</td></tr>\n",
       "<tr><td>H2O_connection_url:</td>\n",
       "<td>http://127.0.0.1:54321</td></tr>\n",
       "<tr><td>H2O_connection_proxy:</td>\n",
       "<td>{\"http\": null, \"https\": null}</td></tr>\n",
       "<tr><td>H2O_internal_security:</td>\n",
       "<td>False</td></tr>\n",
       "<tr><td>H2O_API_Extensions:</td>\n",
       "<td>Amazon S3, Algos, AutoML, Core V3, TargetEncoder, Core V4</td></tr>\n",
       "<tr><td>Python_version:</td>\n",
       "<td>3.7.11 final</td></tr></table></div>"
      ],
      "text/plain": [
       "--------------------------  ---------------------------------------------------------\n",
       "H2O_cluster_uptime:         01 secs\n",
       "H2O_cluster_timezone:       America/New_York\n",
       "H2O_data_parsing_timezone:  UTC\n",
       "H2O_cluster_version:        3.34.0.3\n",
       "H2O_cluster_version_age:    1 month and 14 days\n",
       "H2O_cluster_name:           H2O_from_python_praja_e14ap3\n",
       "H2O_cluster_total_nodes:    1\n",
       "H2O_cluster_free_memory:    7.061 Gb\n",
       "H2O_cluster_total_cores:    16\n",
       "H2O_cluster_allowed_cores:  16\n",
       "H2O_cluster_status:         locked, healthy\n",
       "H2O_connection_url:         http://127.0.0.1:54321\n",
       "H2O_connection_proxy:       {\"http\": null, \"https\": null}\n",
       "H2O_internal_security:      False\n",
       "H2O_API_Extensions:         Amazon S3, Algos, AutoML, Core V3, TargetEncoder, Core V4\n",
       "Python_version:             3.7.11 final\n",
       "--------------------------  ---------------------------------------------------------"
      ]
     },
     "metadata": {},
     "output_type": "display_data"
    }
   ],
   "source": [
    "h2o.init()"
   ]
  },
  {
   "cell_type": "markdown",
   "id": "ab1d0f02",
   "metadata": {},
   "source": [
    "##### Split data into train and test"
   ]
  },
  {
   "cell_type": "code",
   "execution_count": 19,
   "id": "2470e8f6",
   "metadata": {},
   "outputs": [],
   "source": [
    "X_train, X_test = train_test_split(train, stratify=train.churn,\n",
    "                                                   random_state=4,\n",
    "                                                   test_size=0.25)"
   ]
  },
  {
   "cell_type": "markdown",
   "id": "9c8020f1",
   "metadata": {},
   "source": [
    "##### AutoML Started and getting top models which performed best"
   ]
  },
  {
   "cell_type": "code",
   "execution_count": 20,
   "id": "258693ab",
   "metadata": {},
   "outputs": [
    {
     "name": "stdout",
     "output_type": "stream",
     "text": [
      "Parse progress: |████████████████████████████████████████████████████████████████| (done) 100%\n",
      "Parse progress: |████████████████████████████████████████████████████████████████| (done) 100%\n",
      "AutoML progress: |\n",
      "12:31:54.122: User specified a validation frame with cross-validation still enabled. Please note that the models will still be validated using cross-validation only, the validation frame will be used to provide purely informative validation metrics on the trained models.\n",
      "12:31:54.132: AutoML: XGBoost is not available; skipping it.\n",
      "12:31:54.175: Step 'best_of_family_xgboost' not defined in provider 'StackedEnsemble': skipping it.\n",
      "12:31:54.175: Step 'all_xgboost' not defined in provider 'StackedEnsemble': skipping it.\n",
      "\n",
      "███████████████████████████████████████████████████████████████| (done) 100%\n"
     ]
    },
    {
     "data": {
      "text/html": [
       "<table>\n",
       "<thead>\n",
       "<tr><th>model_id                                               </th><th style=\"text-align: right;\">     auc</th><th style=\"text-align: right;\">  logloss</th><th style=\"text-align: right;\">   aucpr</th><th style=\"text-align: right;\">  mean_per_class_error</th><th style=\"text-align: right;\">    rmse</th><th style=\"text-align: right;\">      mse</th></tr>\n",
       "</thead>\n",
       "<tbody>\n",
       "<tr><td>GBM_5_AutoML_1_20211121_123154                         </td><td style=\"text-align: right;\">0.909293</td><td style=\"text-align: right;\"> 0.156753</td><td style=\"text-align: right;\">0.838394</td><td style=\"text-align: right;\">              0.12845 </td><td style=\"text-align: right;\">0.192004</td><td style=\"text-align: right;\">0.0368654</td></tr>\n",
       "<tr><td>StackedEnsemble_BestOfFamily_3_AutoML_1_20211121_123154</td><td style=\"text-align: right;\">0.908047</td><td style=\"text-align: right;\"> 0.154296</td><td style=\"text-align: right;\">0.839468</td><td style=\"text-align: right;\">              0.125943</td><td style=\"text-align: right;\">0.190775</td><td style=\"text-align: right;\">0.0363951</td></tr>\n",
       "<tr><td>StackedEnsemble_BestOfFamily_5_AutoML_1_20211121_123154</td><td style=\"text-align: right;\">0.905429</td><td style=\"text-align: right;\"> 0.155231</td><td style=\"text-align: right;\">0.838686</td><td style=\"text-align: right;\">              0.128255</td><td style=\"text-align: right;\">0.19105 </td><td style=\"text-align: right;\">0.0365003</td></tr>\n",
       "<tr><td>GBM_4_AutoML_1_20211121_123154                         </td><td style=\"text-align: right;\">0.904962</td><td style=\"text-align: right;\"> 0.160427</td><td style=\"text-align: right;\">0.844935</td><td style=\"text-align: right;\">              0.112643</td><td style=\"text-align: right;\">0.19101 </td><td style=\"text-align: right;\">0.0364847</td></tr>\n",
       "<tr><td>StackedEnsemble_AllModels_2_AutoML_1_20211121_123154   </td><td style=\"text-align: right;\">0.904067</td><td style=\"text-align: right;\"> 0.150384</td><td style=\"text-align: right;\">0.84603 </td><td style=\"text-align: right;\">              0.122262</td><td style=\"text-align: right;\">0.186281</td><td style=\"text-align: right;\">0.0347005</td></tr>\n",
       "<tr><td>StackedEnsemble_AllModels_5_AutoML_1_20211121_123154   </td><td style=\"text-align: right;\">0.903902</td><td style=\"text-align: right;\"> 0.150487</td><td style=\"text-align: right;\">0.846992</td><td style=\"text-align: right;\">              0.125534</td><td style=\"text-align: right;\">0.186178</td><td style=\"text-align: right;\">0.0346623</td></tr>\n",
       "<tr><td>GBM_grid_1_AutoML_1_20211121_123154_model_1            </td><td style=\"text-align: right;\">0.903626</td><td style=\"text-align: right;\"> 0.159425</td><td style=\"text-align: right;\">0.848972</td><td style=\"text-align: right;\">              0.119382</td><td style=\"text-align: right;\">0.189024</td><td style=\"text-align: right;\">0.0357302</td></tr>\n",
       "<tr><td>StackedEnsemble_BestOfFamily_2_AutoML_1_20211121_123154</td><td style=\"text-align: right;\">0.902429</td><td style=\"text-align: right;\"> 0.156814</td><td style=\"text-align: right;\">0.844644</td><td style=\"text-align: right;\">              0.115524</td><td style=\"text-align: right;\">0.189483</td><td style=\"text-align: right;\">0.0359037</td></tr>\n",
       "<tr><td>StackedEnsemble_AllModels_3_AutoML_1_20211121_123154   </td><td style=\"text-align: right;\">0.901646</td><td style=\"text-align: right;\"> 0.150445</td><td style=\"text-align: right;\">0.847261</td><td style=\"text-align: right;\">              0.120715</td><td style=\"text-align: right;\">0.185618</td><td style=\"text-align: right;\">0.034454 </td></tr>\n",
       "<tr><td>GBM_2_AutoML_1_20211121_123154                         </td><td style=\"text-align: right;\">0.901451</td><td style=\"text-align: right;\"> 0.158319</td><td style=\"text-align: right;\">0.840183</td><td style=\"text-align: right;\">              0.119773</td><td style=\"text-align: right;\">0.190904</td><td style=\"text-align: right;\">0.0364442</td></tr>\n",
       "<tr><td>StackedEnsemble_BestOfFamily_4_AutoML_1_20211121_123154</td><td style=\"text-align: right;\">0.900594</td><td style=\"text-align: right;\"> 0.154033</td><td style=\"text-align: right;\">0.826731</td><td style=\"text-align: right;\">              0.13382 </td><td style=\"text-align: right;\">0.189144</td><td style=\"text-align: right;\">0.0357756</td></tr>\n",
       "<tr><td>StackedEnsemble_AllModels_1_AutoML_1_20211121_123154   </td><td style=\"text-align: right;\">0.900577</td><td style=\"text-align: right;\"> 0.153708</td><td style=\"text-align: right;\">0.844586</td><td style=\"text-align: right;\">              0.112074</td><td style=\"text-align: right;\">0.187875</td><td style=\"text-align: right;\">0.035297 </td></tr>\n",
       "<tr><td>GBM_3_AutoML_1_20211121_123154                         </td><td style=\"text-align: right;\">0.899945</td><td style=\"text-align: right;\"> 0.158581</td><td style=\"text-align: right;\">0.841322</td><td style=\"text-align: right;\">              0.122867</td><td style=\"text-align: right;\">0.191618</td><td style=\"text-align: right;\">0.0367176</td></tr>\n",
       "<tr><td>XRT_1_AutoML_1_20211121_123154                         </td><td style=\"text-align: right;\">0.899908</td><td style=\"text-align: right;\"> 0.301243</td><td style=\"text-align: right;\">0.81075 </td><td style=\"text-align: right;\">              0.145539</td><td style=\"text-align: right;\">0.233853</td><td style=\"text-align: right;\">0.0546874</td></tr>\n",
       "<tr><td>DRF_1_AutoML_1_20211121_123154                         </td><td style=\"text-align: right;\">0.897869</td><td style=\"text-align: right;\"> 0.337155</td><td style=\"text-align: right;\">0.846676</td><td style=\"text-align: right;\">              0.109585</td><td style=\"text-align: right;\">0.207409</td><td style=\"text-align: right;\">0.0430186</td></tr>\n",
       "<tr><td>GBM_1_AutoML_1_20211121_123154                         </td><td style=\"text-align: right;\">0.896308</td><td style=\"text-align: right;\"> 0.203136</td><td style=\"text-align: right;\">0.79224 </td><td style=\"text-align: right;\">              0.147655</td><td style=\"text-align: right;\">0.226637</td><td style=\"text-align: right;\">0.0513643</td></tr>\n",
       "<tr><td>StackedEnsemble_BestOfFamily_1_AutoML_1_20211121_123154</td><td style=\"text-align: right;\">0.895721</td><td style=\"text-align: right;\"> 0.201718</td><td style=\"text-align: right;\">0.789919</td><td style=\"text-align: right;\">              0.142463</td><td style=\"text-align: right;\">0.22273 </td><td style=\"text-align: right;\">0.0496086</td></tr>\n",
       "<tr><td>StackedEnsemble_AllModels_4_AutoML_1_20211121_123154   </td><td style=\"text-align: right;\">0.895695</td><td style=\"text-align: right;\"> 0.152992</td><td style=\"text-align: right;\">0.821759</td><td style=\"text-align: right;\">              0.124396</td><td style=\"text-align: right;\">0.188694</td><td style=\"text-align: right;\">0.0356055</td></tr>\n",
       "<tr><td>DeepLearning_1_AutoML_1_20211121_123154                </td><td style=\"text-align: right;\">0.847148</td><td style=\"text-align: right;\"> 0.273469</td><td style=\"text-align: right;\">0.581555</td><td style=\"text-align: right;\">              0.230321</td><td style=\"text-align: right;\">0.275323</td><td style=\"text-align: right;\">0.0758027</td></tr>\n",
       "<tr><td>GLM_1_AutoML_1_20211121_123154                         </td><td style=\"text-align: right;\">0.810323</td><td style=\"text-align: right;\"> 0.304141</td><td style=\"text-align: right;\">0.430153</td><td style=\"text-align: right;\">              0.259292</td><td style=\"text-align: right;\">0.299842</td><td style=\"text-align: right;\">0.0899053</td></tr>\n",
       "</tbody>\n",
       "</table>"
      ]
     },
     "metadata": {},
     "output_type": "display_data"
    },
    {
     "data": {
      "text/plain": []
     },
     "execution_count": 20,
     "metadata": {},
     "output_type": "execute_result"
    }
   ],
   "source": [
    "trainh2o = h2o.H2OFrame(X_train)\n",
    "testh2o = h2o.H2OFrame(X_test)\n",
    "\n",
    "# Identify predictors and response\n",
    "x = trainh2o.columns\n",
    "y = \"churn\"\n",
    "x.remove(y)\n",
    "\n",
    "# For binary classification, response should be a factor\n",
    "trainh2o[y] = trainh2o[y].asfactor()\n",
    "\n",
    "# Run AutoML for 20 base models\n",
    "aml = H2OAutoML(max_models=10)\n",
    "aml.train(x=x, y=y, training_frame=trainh2o, validation_frame = testh2o)\n",
    "\n",
    "# View the AutoML Leaderboard\n",
    "lb = aml.leaderboard\n",
    "lb.head(rows=lb.nrows)  # Print all rows instead of default (10 rows)\n"
   ]
  },
  {
   "cell_type": "markdown",
   "id": "c62a314f",
   "metadata": {},
   "source": [
    "##### Check each model with more details"
   ]
  },
  {
   "cell_type": "code",
   "execution_count": 21,
   "id": "dcceb632",
   "metadata": {},
   "outputs": [
    {
     "data": {
      "text/html": [
       "<table>\n",
       "<thead>\n",
       "<tr><th>model_id                                               </th><th style=\"text-align: right;\">     auc</th><th style=\"text-align: right;\">  logloss</th><th style=\"text-align: right;\">   aucpr</th><th style=\"text-align: right;\">  mean_per_class_error</th><th style=\"text-align: right;\">    rmse</th><th style=\"text-align: right;\">      mse</th><th style=\"text-align: right;\">  training_time_ms</th><th style=\"text-align: right;\">  predict_time_per_row_ms</th><th>algo           </th></tr>\n",
       "</thead>\n",
       "<tbody>\n",
       "<tr><td>GBM_5_AutoML_1_20211121_123154                         </td><td style=\"text-align: right;\">0.909293</td><td style=\"text-align: right;\"> 0.156753</td><td style=\"text-align: right;\">0.838394</td><td style=\"text-align: right;\">              0.12845 </td><td style=\"text-align: right;\">0.192004</td><td style=\"text-align: right;\">0.0368654</td><td style=\"text-align: right;\">               196</td><td style=\"text-align: right;\">                 0.008311</td><td>GBM            </td></tr>\n",
       "<tr><td>StackedEnsemble_BestOfFamily_3_AutoML_1_20211121_123154</td><td style=\"text-align: right;\">0.908047</td><td style=\"text-align: right;\"> 0.154296</td><td style=\"text-align: right;\">0.839468</td><td style=\"text-align: right;\">              0.125943</td><td style=\"text-align: right;\">0.190775</td><td style=\"text-align: right;\">0.0363951</td><td style=\"text-align: right;\">               721</td><td style=\"text-align: right;\">                 0.00898 </td><td>StackedEnsemble</td></tr>\n",
       "<tr><td>StackedEnsemble_BestOfFamily_5_AutoML_1_20211121_123154</td><td style=\"text-align: right;\">0.905429</td><td style=\"text-align: right;\"> 0.155231</td><td style=\"text-align: right;\">0.838686</td><td style=\"text-align: right;\">              0.128255</td><td style=\"text-align: right;\">0.19105 </td><td style=\"text-align: right;\">0.0365003</td><td style=\"text-align: right;\">               584</td><td style=\"text-align: right;\">                 0.008535</td><td>StackedEnsemble</td></tr>\n",
       "<tr><td>GBM_4_AutoML_1_20211121_123154                         </td><td style=\"text-align: right;\">0.904962</td><td style=\"text-align: right;\"> 0.160427</td><td style=\"text-align: right;\">0.844935</td><td style=\"text-align: right;\">              0.112643</td><td style=\"text-align: right;\">0.19101 </td><td style=\"text-align: right;\">0.0364847</td><td style=\"text-align: right;\">               234</td><td style=\"text-align: right;\">                 0.00995 </td><td>GBM            </td></tr>\n",
       "<tr><td>StackedEnsemble_AllModels_2_AutoML_1_20211121_123154   </td><td style=\"text-align: right;\">0.904067</td><td style=\"text-align: right;\"> 0.150384</td><td style=\"text-align: right;\">0.84603 </td><td style=\"text-align: right;\">              0.122262</td><td style=\"text-align: right;\">0.186281</td><td style=\"text-align: right;\">0.0347005</td><td style=\"text-align: right;\">               720</td><td style=\"text-align: right;\">                 0.011734</td><td>StackedEnsemble</td></tr>\n",
       "<tr><td>StackedEnsemble_AllModels_5_AutoML_1_20211121_123154   </td><td style=\"text-align: right;\">0.903902</td><td style=\"text-align: right;\"> 0.150487</td><td style=\"text-align: right;\">0.846992</td><td style=\"text-align: right;\">              0.125534</td><td style=\"text-align: right;\">0.186178</td><td style=\"text-align: right;\">0.0346623</td><td style=\"text-align: right;\">               716</td><td style=\"text-align: right;\">                 0.013539</td><td>StackedEnsemble</td></tr>\n",
       "<tr><td>GBM_grid_1_AutoML_1_20211121_123154_model_1            </td><td style=\"text-align: right;\">0.903626</td><td style=\"text-align: right;\"> 0.159425</td><td style=\"text-align: right;\">0.848972</td><td style=\"text-align: right;\">              0.119382</td><td style=\"text-align: right;\">0.189024</td><td style=\"text-align: right;\">0.0357302</td><td style=\"text-align: right;\">               222</td><td style=\"text-align: right;\">                 0.010139</td><td>GBM            </td></tr>\n",
       "<tr><td>StackedEnsemble_BestOfFamily_2_AutoML_1_20211121_123154</td><td style=\"text-align: right;\">0.902429</td><td style=\"text-align: right;\"> 0.156814</td><td style=\"text-align: right;\">0.844644</td><td style=\"text-align: right;\">              0.115524</td><td style=\"text-align: right;\">0.189483</td><td style=\"text-align: right;\">0.0359037</td><td style=\"text-align: right;\">              1245</td><td style=\"text-align: right;\">                 0.011848</td><td>StackedEnsemble</td></tr>\n",
       "<tr><td>StackedEnsemble_AllModels_3_AutoML_1_20211121_123154   </td><td style=\"text-align: right;\">0.901646</td><td style=\"text-align: right;\"> 0.150445</td><td style=\"text-align: right;\">0.847261</td><td style=\"text-align: right;\">              0.120715</td><td style=\"text-align: right;\">0.185618</td><td style=\"text-align: right;\">0.034454 </td><td style=\"text-align: right;\">               715</td><td style=\"text-align: right;\">                 0.015976</td><td>StackedEnsemble</td></tr>\n",
       "<tr><td>GBM_2_AutoML_1_20211121_123154                         </td><td style=\"text-align: right;\">0.901451</td><td style=\"text-align: right;\"> 0.158319</td><td style=\"text-align: right;\">0.840183</td><td style=\"text-align: right;\">              0.119773</td><td style=\"text-align: right;\">0.190904</td><td style=\"text-align: right;\">0.0364442</td><td style=\"text-align: right;\">               212</td><td style=\"text-align: right;\">                 0.008256</td><td>GBM            </td></tr>\n",
       "</tbody>\n",
       "</table>"
      ]
     },
     "metadata": {},
     "output_type": "display_data"
    },
    {
     "data": {
      "text/plain": []
     },
     "execution_count": 21,
     "metadata": {},
     "output_type": "execute_result"
    }
   ],
   "source": [
    "lb = h2o.automl.get_leaderboard(aml, extra_columns = \"ALL\")\n",
    "lb"
   ]
  },
  {
   "cell_type": "markdown",
   "id": "6c29d668",
   "metadata": {},
   "source": [
    "##### evaluating the best model on our test data"
   ]
  },
  {
   "cell_type": "code",
   "execution_count": 22,
   "id": "511fe5bd",
   "metadata": {},
   "outputs": [
    {
     "name": "stdout",
     "output_type": "stream",
     "text": [
      "gbm prediction progress: |███████████████████████████████████████████████████████| (done) 100%\n",
      "              precision    recall  f1-score   support\n",
      "\n",
      "           0       0.96      0.99      0.98       853\n",
      "           1       0.91      0.72      0.81       123\n",
      "\n",
      "    accuracy                           0.96       976\n",
      "   macro avg       0.93      0.86      0.89       976\n",
      "weighted avg       0.95      0.96      0.95       976\n",
      "\n"
     ]
    },
    {
     "data": {
      "text/plain": [
       "<sklearn.metrics._plot.confusion_matrix.ConfusionMatrixDisplay at 0x21e16ea5f48>"
      ]
     },
     "execution_count": 22,
     "metadata": {},
     "output_type": "execute_result"
    },
    {
     "data": {
      "image/png": "[encoded data removed]",
      "text/plain": [
       "<Figure size 432x288 with 2 Axes>"
      ]
     },
     "metadata": {
      "needs_background": "light"
     },
     "output_type": "display_data"
    }
   ],
   "source": [
    "preds = aml.leader.predict(testh2o)\n",
    "churnh2o = preds[\"predict\"].as_data_frame().to_numpy().reshape(1,-1)[0]\n",
    "\n",
    "print(classification_report(y_test, churnh2o))\n",
    "cf = confusion_matrix(y_test, churnh2o)\n",
    "\n",
    "disp = ConfusionMatrixDisplay(cf)\n",
    "disp.plot()\n",
    "\n",
    "# test1 = test.copy()\n",
    "\n",
    "# test1[\"churn\"] = preds[\"predict\"].as_data_frame().to_numpy().reshape(1,-1)[0]\n",
    "\n",
    "# test1[\"churn\"] = test1[\"churn\"].apply(lambda x: \"no\" if x == 0 else \"yes\")\n",
    "# test_submit = test1[[\"id\", \"churn\"]]\n",
    "\n",
    "# test_submit.to_csv(\"predh2o.csv\", index = False)"
   ]
  },
  {
   "cell_type": "markdown",
   "id": "2fcc286c",
   "metadata": {},
   "source": [
    "##### Evaluating other top models on test dataset -- Please Check the model name in leaderboard it might change in yours"
   ]
  },
  {
   "cell_type": "code",
   "execution_count": 24,
   "id": "96a1448f",
   "metadata": {},
   "outputs": [
    {
     "name": "stdout",
     "output_type": "stream",
     "text": [
      "drf prediction progress: |███████████████████████████████████████████████████████| (done) 100%\n",
      "              precision    recall  f1-score   support\n",
      "\n",
      "           0       0.97      0.98      0.98       853\n",
      "           1       0.84      0.82      0.83       123\n",
      "\n",
      "    accuracy                           0.96       976\n",
      "   macro avg       0.91      0.90      0.90       976\n",
      "weighted avg       0.96      0.96      0.96       976\n",
      "\n"
     ]
    },
    {
     "data": {
      "text/plain": [
       "<sklearn.metrics._plot.confusion_matrix.ConfusionMatrixDisplay at 0x21e17267b08>"
      ]
     },
     "execution_count": 24,
     "metadata": {},
     "output_type": "execute_result"
    },
    {
     "data": {
      "image/png": "[encoded data removed]",
      "text/plain": [
       "<Figure size 432x288 with 2 Axes>"
      ]
     },
     "metadata": {
      "needs_background": "light"
     },
     "output_type": "display_data"
    }
   ],
   "source": [
    "m = h2o.get_model(\"DRF_1_AutoML_1_20211121_123154\") ## Change the model name according to yours autoML result\n",
    "preds = m.predict(testh2o)\n",
    "\n",
    "churnh2o = preds[\"predict\"].as_data_frame().to_numpy().reshape(1,-1)[0]\n",
    "\n",
    "print(classification_report(y_test, churnh2o))\n",
    "cf = confusion_matrix(y_test, churnh2o)\n",
    "\n",
    "disp = ConfusionMatrixDisplay(cf)\n",
    "disp.plot()\n",
    "\n",
    "\n",
    "# test1 = test.copy()\n",
    "\n",
    "# test1[\"churn\"] = preds[\"predict\"].as_data_frame().to_numpy().reshape(1,-1)[0]\n",
    "\n",
    "# test1[\"churn\"] = test1[\"churn\"].apply(lambda x: \"no\" if x == 0 else \"yes\")\n",
    "# test_submit = test1[[\"id\", \"churn\"]]\n",
    "\n",
    "# test_submit.to_csv(\"predh2o2.csv\", index = False)"
   ]
  },
  {
   "cell_type": "code",
   "execution_count": null,
   "id": "700dd695",
   "metadata": {},
   "outputs": [],
   "source": []
  }
 ],
 "metadata": {
  "kernelspec": {
   "display_name": "Python 3 (ipykernel)",
   "language": "python",
   "name": "python3"
  },
  "language_info": {
   "codemirror_mode": {
    "name": "ipython",
    "version": 3
   },
   "file_extension": ".py",
   "mimetype": "text/x-python",
   "name": "python",
   "nbconvert_exporter": "python",
   "pygments_lexer": "ipython3",
   "version": "3.7.11"
  }
 },
 "nbformat": 4,
 "nbformat_minor": 5
}
